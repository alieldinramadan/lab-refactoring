{
 "cells": [
  {
   "cell_type": "code",
   "execution_count": null,
   "metadata": {},
   "outputs": [
    {
     "name": "stdout",
     "output_type": "stream",
     "text": [
      "\u001b[1m\u001b[94mHello user :)\n",
      "Welcome to Message Encryption and Decryption\n",
      "You can either choose to encrypt a message or decrypt a message that was encrypted using the same interface.\n",
      "\n",
      "\u001b[1m\u001b[91mPlease follow the instructions below:\n",
      "- Answer the first question to choose either to encrypt or decrypt a message.\n",
      "- Type in your message and press 'enter' and the interface will give you either the encrypted message\n",
      "   or the decrypted message depending on which one you chose.\u001b[0m\n",
      "\u001b[1m\n",
      "That being said, let's begin :)\n",
      "\u001b[0m\n",
      "Do you want to encrypt or decrypt a message?\n",
      "Please entre 'encrypt' or 'decrypt': a\n",
      "Do you want to encrypt or decrypt a message?\n",
      "Please entre 'encrypt' or 'decrypt': a\n",
      "\u001b[1m\u001b[91mYour input is incorrect, please try again!\u001b[0m\n",
      "Do you want to encrypt or decrypt a message?\n",
      "Please entre 'encrypt' or 'decrypt': encrypt\n",
      "Input a sentance that you want to encrypt:\n",
      "Alieldin\n",
      "\u001b[1m\u001b[94mYour encrypted message is:\n",
      "2535 4212 4095 3939 4212 3900 4095 4290 \n",
      "\u001b[0m\n",
      "Do you want to encrypt or decrypt a message?\n",
      "Please entre 'encrypt' or 'decrypt': decrypt\n",
      "Input a code that you want to decrypt:\n",
      "2535 4212 4095 3939 4212 3900 4095 4290\n",
      "\u001b[1m\u001b[92mYour dycrypted message is:\n",
      "Alieldin\u001b[0m\n",
      "\n"
     ]
    }
   ],
   "source": [
    "def encrypt():\n",
    "    sentence_to_encrypt = input(\"Input a sentance that you want to encrypt:\\n\")\n",
    "    enclist=[]\n",
    "    for letters in sentence_to_encrypt:\n",
    "        encnumber = ord(letters) * 39\n",
    "        enclist.append(encnumber)\n",
    "    print (\"\\033[1m\"+\"\\033[94m\"+\"Your encrypted message is:\")\n",
    "    for numbers in enclist: \n",
    "        print(numbers, end='')\n",
    "        print(\" \", end='')\n",
    "    print(\"\\n\"+\"\\033[0m\")\n",
    "\n",
    "def decrypt():\n",
    "    sentence_to_decrypt = input(\"Input a code that you want to decrypt:\\n\")\n",
    "    x = sentence_to_decrypt.split(' ')\n",
    "    dec_sentence=\"\"\n",
    "    for numbers in x:\n",
    "        x= chr(int(int(numbers) / 39))\n",
    "        dec_sentence = dec_sentence + x\n",
    "    print(\"\\033[1m\"+\"\\033[92m\"+\"Your dycrypted message is:\\n\" f\"{dec_sentence}\"+\"\\033[0m\"+\"\\n\")\n",
    "    \n",
    "print(\"\\033[1m\"+\"\\033[94m\"+\"Hello user :)\\nWelcome to Message Encryption and Decryption\")\n",
    "print(\"You can either choose to encrypt a message or decrypt a message that was encrypted using the same interface.\\n\")\n",
    "print(\"\\033[1m\"+\"\\033[91m\"+\"Please follow the instructions below:\")\n",
    "print(\"- Answer the first question to choose either to encrypt or decrypt a message.\")\n",
    "print(\"- Type in your message and press 'enter' and the interface will give you either the encrypted message\\n   or the decrypted message depending on which one you chose.\"+\"\\033[0m\")\n",
    "print(\"\\033[1m\"+\"\\nThat being said, let's begin :)\\n\"+\"\\033[0m\")\n",
    "\n",
    "choice = input(\"Do you want to encrypt or decrypt a message?\\nPlease entre \"\"\\033[1m\" + \"'encrypt' or 'decrypt': \"+\"\\033[0m\")\n",
    "if choice == 'encrypt':\n",
    "    encrypt()\n",
    "elif choice == 'decrypt':\n",
    "    decrypt()\n",
    "else:\n",
    "    while True:\n",
    "        choice = input(\"Do you want to encrypt or decrypt a message?\\nPlease entre \"\"\\033[1m\" + \"'encrypt' or 'decrypt': \"+\"\\033[0m\")\n",
    "        if choice == 'encrypt':\n",
    "            encrypt()\n",
    "        elif choice == 'decrypt':\n",
    "            decrypt()\n",
    "        else:\n",
    "            print(\"\\033[1m\"+\"\\033[91m\"+\"Your input is incorrect, please try again!\"+\"\\033[0m\")"
   ]
  },
  {
   "cell_type": "code",
   "execution_count": null,
   "metadata": {},
   "outputs": [],
   "source": []
  }
 ],
 "metadata": {
  "kernelspec": {
   "display_name": "Python 3",
   "language": "python",
   "name": "python3"
  },
  "language_info": {
   "codemirror_mode": {
    "name": "ipython",
    "version": 3
   },
   "file_extension": ".py",
   "mimetype": "text/x-python",
   "name": "python",
   "nbconvert_exporter": "python",
   "pygments_lexer": "ipython3",
   "version": "3.7.3"
  }
 },
 "nbformat": 4,
 "nbformat_minor": 2
}
